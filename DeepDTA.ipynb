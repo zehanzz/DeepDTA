{
  "nbformat": 4,
  "nbformat_minor": 0,
  "metadata": {
    "colab": {
      "provenance": [],
      "machine_shape": "hm",
      "gpuType": "A100"
    },
    "kernelspec": {
      "name": "python3",
      "display_name": "Python 3"
    },
    "language_info": {
      "name": "python"
    },
    "accelerator": "GPU"
  },
  "cells": [
    {
      "cell_type": "code",
      "execution_count": null,
      "metadata": {
        "id": "dpien3ANBqHV"
      },
      "outputs": [],
      "source": [
        "import tensorflow as tf\n",
        "import numpy as np\n",
        "import csv\n",
        "import random\n",
        "import pandas as pd\n",
        "import warnings\n",
        "import warnings\n",
        "\n",
        "# Ignore pandas warnings\n",
        "warnings.filterwarnings('ignore', category=FutureWarning)\n",
        "\n",
        "from keras.preprocessing.text import Tokenizer\n",
        "from keras.utils import pad_sequences\n",
        "from keras.utils import to_categorical\n",
        "from keras import regularizers\n",
        "from keras import optimizers"
      ]
    },
    {
      "cell_type": "code",
      "source": [
        "# For reproducibility, create seeds\n",
        "np.random.seed(42)\n",
        "tf.random.set_seed(42)\n",
        "random.seed(42)"
      ],
      "metadata": {
        "id": "DcwUR24fCe-W"
      },
      "execution_count": null,
      "outputs": []
    },
    {
      "cell_type": "markdown",
      "source": [
        "Whole Dataset"
      ],
      "metadata": {
        "id": "nv2cPVcc5fpo"
      }
    },
    {
      "cell_type": "code",
      "source": [
        "from sklearn.model_selection import train_test_split\n",
        "\n",
        "data = pd.read_csv('kd_whole_norm.csv')\n",
        "\n",
        "train, test = train_test_split(data, test_size=0.1, random_state=42)\n",
        "train.to_csv('kd_train.csv', index=False)\n",
        "test.to_csv('kd_test.csv', index=False)\n",
        "print(len(train))\n",
        "# smiles_train = data_train['Ligand SMILES'].tolist()\n",
        "# proteins_train = data_train['BindingDB Target Chain  Sequence'].tolist()\n",
        "# labels_train = data_train['Kd (nM)'].tolist()\n",
        "\n",
        "# smiles_test = data_test['Ligand SMILES'].tolist()\n",
        "# proteins_test = data_test['BindingDB Target Chain  Sequence'].tolist()\n",
        "# labels_test = data_test['Kd (nM)'].tolist()"
      ],
      "metadata": {
        "colab": {
          "base_uri": "https://localhost:8080/"
        },
        "id": "HgkahIjP5dVX",
        "outputId": "be0f8423-8cfd-4f8d-9439-6866ecf319cc"
      },
      "execution_count": null,
      "outputs": [
        {
          "output_type": "stream",
          "name": "stdout",
          "text": [
            "56236\n"
          ]
        }
      ]
    },
    {
      "cell_type": "code",
      "source": [
        "# Load the train data\n",
        "data_train = []\n",
        "with open('kd_train.csv') as csvfile:\n",
        "  reader = csv.reader(csvfile)\n",
        "  next(reader) # skip the header\n",
        "  for row in reader:\n",
        "    triplet = []\n",
        "    triplet.append(row[0])\n",
        "    triplet.append(row[1])\n",
        "    triplet.append(row[2])\n",
        "    data_train.append(triplet)\n",
        "  print(len(data_train))"
      ],
      "metadata": {
        "colab": {
          "base_uri": "https://localhost:8080/"
        },
        "id": "7coOnB5XQuWU",
        "outputId": "5681dc31-bc9c-42f4-a363-fffa2a720d92"
      },
      "execution_count": null,
      "outputs": [
        {
          "output_type": "stream",
          "name": "stdout",
          "text": [
            "56236\n"
          ]
        }
      ]
    },
    {
      "cell_type": "code",
      "source": [
        "# Load the test data\n",
        "data_test = []\n",
        "with open('kd_test.csv') as csvfile:\n",
        "  reader = csv.reader(csvfile)\n",
        "  next(reader) # skip the header\n",
        "  for row in reader:\n",
        "    triplet = []\n",
        "    triplet.append(row[0])\n",
        "    triplet.append(row[1])\n",
        "    triplet.append(row[2])\n",
        "    data_test.append(triplet)\n",
        "  print(len(data_test))"
      ],
      "metadata": {
        "colab": {
          "base_uri": "https://localhost:8080/"
        },
        "id": "2KjY4GQQQ6DL",
        "outputId": "a8195c10-f83f-44ac-caac-8577aab142ee"
      },
      "execution_count": null,
      "outputs": [
        {
          "output_type": "stream",
          "name": "stdout",
          "text": [
            "6249\n"
          ]
        }
      ]
    },
    {
      "cell_type": "code",
      "source": [
        "smiles_train = []\n",
        "proteins_train = []\n",
        "labels_train = []\n",
        "random.shuffle(data_train)\n",
        "for triplet in range(len(data_train)):\n",
        "  smiles_train.append(data_train[triplet][0])\n",
        "  proteins_train.append(data_train[triplet][1])\n",
        "  labels_train.append(data_train[triplet][2])"
      ],
      "metadata": {
        "id": "rBAqsW9lQ-TU"
      },
      "execution_count": null,
      "outputs": []
    },
    {
      "cell_type": "code",
      "source": [
        "smiles_test = []\n",
        "proteins_test = []\n",
        "labels_test = []\n",
        "random.shuffle(data_test)\n",
        "for triplet in range(len(data_test)):\n",
        "  smiles_test.append(data_test[triplet][0])\n",
        "  proteins_test.append(data_test[triplet][1])\n",
        "  labels_test.append(data_test[triplet][2])"
      ],
      "metadata": {
        "id": "PdqqwigzRDb0"
      },
      "execution_count": null,
      "outputs": []
    },
    {
      "cell_type": "code",
      "source": [
        "print(smiles_train[0])\n",
        "print(proteins_train[0])\n",
        "print(labels_train[0])"
      ],
      "metadata": {
        "colab": {
          "base_uri": "https://localhost:8080/"
        },
        "id": "0EmRfS-4IbwV",
        "outputId": "ac413223-7f1b-4941-ee6b-8343481b0375"
      },
      "execution_count": null,
      "outputs": [
        {
          "output_type": "stream",
          "name": "stdout",
          "text": [
            "Clc1ccc(cc1)C(c1c[nH]c(c1)-c1ccc(Cl)cc1)n1ccnc1\n",
            "MFIEAIVLALTALILYSVYSVKSFNTTRPTDPPVYPVTVPFLGHIVQFGKNPLEFMQRCKRDLKSGVFTISIGGQRVTIVGDPHEHSRFFSPRNEILSPREVYTIMTPVFGEGVAYAAPYPRMREQLNFLAEELTIAKFQNFVPAIQHEVRKFMAENWKEDEGVINLLEDCGAMIINTACQCLFGEDLRKRLNARHFAQLLSKMESSLIPAAVFMPWLLRLPLPQSARCREARAELQKILGEIIVAREKEEASKDNNTSDLLGGLLKAVYRDGTRMSLHEVCGMIVAAMFAGQHTSTITTSWSMLHLMHPKNKKWLDKLHKEIDEFPAQLNYDNVMDEMPFAERCVRESIRRDPPLLMVMRMVKAEVKVGSYVVPKGDIIACSPLLSHHDEEAFPNPRLWDPERDEKVDGAFIGFGAGVHKCIGQKFALLQVKTILATAFREYDFQLLRDEVPDPDYHTMVVGPTLNQCLVKYTRKKKLPS\n",
            "-0.9450704590925664\n"
          ]
        }
      ]
    },
    {
      "cell_type": "code",
      "source": [
        "print(smiles_test[0])\n",
        "print(proteins_test[0])\n",
        "print(labels_test[0])"
      ],
      "metadata": {
        "colab": {
          "base_uri": "https://localhost:8080/"
        },
        "id": "CJCyrfwfIiJD",
        "outputId": "99afbc4c-1c1e-4b2d-ac1f-2d0e507e315f"
      },
      "execution_count": null,
      "outputs": [
        {
          "output_type": "stream",
          "name": "stdout",
          "text": [
            "CC[C@@H]1C[C@H]2[C@@H]3CCC4=CC(=O)CC[C@@H]4[C@H]3CC[C@]2(C)[C@H]1C(=O)CO\n",
            "MTELKAKGPRAPHVAGGPPSPEVGSPLLCRPAAGPFPGSQTSDTLPEVSAIPISLDGLLFPRPCQGQDPSDEKTQDQQSLSDVEGAYSRAEATRGAGGSSSSPPEKDSGLLDSVLDTLLAPSGPGQSQPSPPACEVTSSWCLFGPELPEDPPAAPATQRVLSPLMSRSGCKVGDSSGTAAAHKVLPRGLSPARQLLLPASESPHWSGAPVKPSPQAAAVEVEEEDGSESEESAGPLLKGKPRALGGAAAGGGAAAVPPGAAAGGVALVPKEDSRFSAPRVALVEQDAPMAPGRSPLATTVMDFIHVPILPLNHALLAARTRQLLEDESYDGGAGAASAFAPPRSSPCASSTPVAVGDFPDCAYPPDAEPKDDAYPLYSDFQPPALKIKEEEEGAEASARSPRSYLVAGANPAAFPDFPLGPPPPLPPRATPSRPGEAAVTAAPASASVSSASSSGSTLECILYKAEGAPPQQGPFAPPPCKAPGASGCLLPRDGLPSTSASAAAAGAAPALYPALGLNGLPQLGYQAAVLKEGLPQVYPPYLNYLRPDSEASQSPQYSFESLPQKICLICGDEASGCHYGVLTCGSCKVFFKRAMEGQHNYLCAGRNDCIVDKIRRKNCPACRLRKCCQAGMVLGGRKFKKFNKVRVVRALDAVALPQPVGVPNESQALSQRFTFSPGQDIQLIPPLINLLMSIEPDVIYAGHDNTKPDTSSSLLTSLNQLGERQLLSVVKWSKSLPGFRNLHIDDQITLIQYSWMSLMVFGLGWRSYKHVSGQMLYFAPDLILNEQRMKESSFYSLCLTMWQIPQEFVKLQVSQEEFLCMKVLLLLNTIPLEGLRSQTQFEEMRSSYIRELIKAIGLRQKGVVSSSQRFYQLTKLLDNLHDLVKQLHLYCLNTFIQSRALSVEFPEMMSEVIAAQLPKILAGMVKPLLFHKK\n",
            "0.9328011687796698\n"
          ]
        }
      ]
    },
    {
      "cell_type": "markdown",
      "source": [
        "pH separation"
      ],
      "metadata": {
        "id": "eyCn7RsGIjxI"
      }
    },
    {
      "cell_type": "code",
      "source": [
        "data = pd.read_csv('kd_pH_norm.csv')\n",
        "if 'pH' in data.columns:\n",
        "    other_pH = data[(data['pH'] < 7.0) | (data['pH'] > 7.5)]\n",
        "    normal_pH = data[(data['pH'] >= 7.0) & (data['pH'] <= 7.5)]\n",
        "    other_pH = other_pH.drop(columns=['pH'])\n",
        "    normal_pH = normal_pH.drop(columns=['pH'])\n",
        "    other_pH.to_csv('kd_test.csv', index=False)\n",
        "    normal_pH.to_csv('kd_train.csv', index=False)\n",
        "else:\n",
        "    print(\"The 'pH' column does not exist in the DataFrame.\")"
      ],
      "metadata": {
        "id": "rTpXuUVUb_nw"
      },
      "execution_count": 19,
      "outputs": []
    },
    {
      "cell_type": "code",
      "source": [
        "# Load the train data\n",
        "data_train = []\n",
        "with open('kd_train.csv') as csvfile:\n",
        "  reader = csv.reader(csvfile)\n",
        "  next(reader) # skip the header\n",
        "  for row in reader:\n",
        "    triplet = []\n",
        "    triplet.append(row[0])\n",
        "    triplet.append(row[1])\n",
        "    triplet.append(row[2])\n",
        "    data_train.append(triplet)\n",
        "  print(len(data_train))"
      ],
      "metadata": {
        "colab": {
          "base_uri": "https://localhost:8080/"
        },
        "id": "ZZMGya1YFS1s",
        "outputId": "08ea08b6-a2cb-4095-b9f2-8d645529ccde"
      },
      "execution_count": 20,
      "outputs": [
        {
          "output_type": "stream",
          "name": "stdout",
          "text": [
            "3140\n"
          ]
        }
      ]
    },
    {
      "cell_type": "code",
      "source": [
        "# Load the test data\n",
        "data_test = []\n",
        "with open('kd_test.csv') as csvfile:\n",
        "  reader = csv.reader(csvfile)\n",
        "  next(reader) # skip the header\n",
        "  for row in reader:\n",
        "    triplet = []\n",
        "    triplet.append(row[0])\n",
        "    triplet.append(row[1])\n",
        "    triplet.append(row[2])\n",
        "    data_test.append(triplet)\n",
        "  print(len(data_test))"
      ],
      "metadata": {
        "colab": {
          "base_uri": "https://localhost:8080/"
        },
        "id": "j21QC5zidYnq",
        "outputId": "37362977-bdcf-4eb5-b59b-01a7ac3b6c25"
      },
      "execution_count": 21,
      "outputs": [
        {
          "output_type": "stream",
          "name": "stdout",
          "text": [
            "590\n"
          ]
        }
      ]
    },
    {
      "cell_type": "code",
      "source": [
        "print(data_train[0])\n",
        "print(data_test[0])"
      ],
      "metadata": {
        "colab": {
          "base_uri": "https://localhost:8080/"
        },
        "id": "fxacx3-jJP8_",
        "outputId": "af0bb49c-d439-4545-aa87-f45496282266"
      },
      "execution_count": 22,
      "outputs": [
        {
          "output_type": "stream",
          "name": "stdout",
          "text": [
            "['Nc1ncnc2c(CN3CC(O)C(CSc4ccc(Cl)cc4)C3)c[nH]c12', 'MKIGIIGAMEEEVTLLRDKIENRQTISLGGCEIYTGQLNGTEVALLKSGIGKVAAALGATLLLEHCKPDVIINTGSAGGLAPTLKVGDIVVSDEARYHDADVTAFGYEYGQLPGCPAGFKADDKLIAAAEACIAELNLNAVRGLIVSGDAFINGSVGLAKIRHNFPQAIAVEMEATAIAHVCHNFNVPFVVVRAISDVADQQSHLSFDEFLAVAAKQSSLMVESLVQKLAHG', '3.948325492638361']\n",
            "['CN(C)c1ccc(Oc2cc(O)cc(O)c2-c2cc(on2)C(=O)NC2CCN(CC2)C2CCC3(CC2)OCCO3)cc1', 'MPEETQTQDQPMEEEEVETFAFQAEIAQLMSLIINTFYSNKEIFLRELISNSSDALDKIRYESLTDPSKLDSGKELHINLIPNKQDRTLTIVDTGIGMTKADLINNLGTIAKSGTKAFMEALQAGADISMIGQFGVGFYSAYLVAEKVTVITKHNDDEQYAWESSAGGSFTVRTDTGEPMGRGTKVILHLKEDQTEYLEERRIKEIVKKHSQFIGYPITLFVEKERDKEVSDDEAEEKEDKEEEKEKEEKESEDKPEIEDVGSDEEEEKKDGDKKKKKKIKEKYIDQEELNKTKPIWTRNPDDITNEEYGEFYKSLTNDWEDHLAVKHFSVEGQLEFRALLFVPRRAPFDLFENRKKKNNIKLYVRRVFIMDNCEELIPEYLNFIRGVVDSEDLPLNISREMLQQSKILKVIRKNLVKKCLELFTELAEDKENYKKFYEQFSKNIKLGIHEDSQNRKKLSELLRYYTSASGDEMVSLKDYCTRMKENQKHIYYITGETKDQVANSAFVERLRKHGLEVIYMIEPIDEYCVQQLKEFEGKTLVSVTKEGLELPEDEEEKKKQEEKKTKFENLCKIMKDILEKKVEKVVVSNRLVTSPCCIVTSTYGWTANMERIMKAQALRDNSTMGYMAAKKHLEINPDHSIIETLRQKAEADKNDKSVKDLVILLYETALLSSGFSLEDPQTHANRIYRMIKLGLGIDEDDPTADDTSAAVTEEMPPLEGDDDTSRMEEVD', '2.143449964786781']\n"
          ]
        }
      ]
    },
    {
      "cell_type": "code",
      "source": [
        "smiles_train = []\n",
        "proteins_train = []\n",
        "labels_train = []\n",
        "random.shuffle(data_train)\n",
        "for triplet in range(len(data_train)):\n",
        "  smiles_train.append(data_train[triplet][0])\n",
        "  proteins_train.append(data_train[triplet][1])\n",
        "  labels_train.append(data_train[triplet][2])"
      ],
      "metadata": {
        "id": "xjugx_ltJ3z4"
      },
      "execution_count": 23,
      "outputs": []
    },
    {
      "cell_type": "code",
      "source": [
        "smiles_test = []\n",
        "proteins_test = []\n",
        "labels_test = []\n",
        "random.shuffle(data_test)\n",
        "for triplet in range(len(data_test)):\n",
        "  smiles_test.append(data_test[triplet][0])\n",
        "  proteins_test.append(data_test[triplet][1])\n",
        "  labels_test.append(data_test[triplet][2])"
      ],
      "metadata": {
        "id": "Ng418GLOe-JK"
      },
      "execution_count": 24,
      "outputs": []
    },
    {
      "cell_type": "code",
      "source": [
        "print(smiles_train[0])\n",
        "print(proteins_train[0])\n",
        "print(labels_train[0])"
      ],
      "metadata": {
        "colab": {
          "base_uri": "https://localhost:8080/"
        },
        "id": "apgEdQiHLEDH",
        "outputId": "5702beb1-e3a1-4263-9621-8674d28b8aca"
      },
      "execution_count": 25,
      "outputs": [
        {
          "output_type": "stream",
          "name": "stdout",
          "text": [
            "NS(=O)(=O)Nc1ccccc1\n",
            "MSHHWGYGKHNGPEHWHKDFPIAKGERQSPVDIDTHTAKYDPSLKPLSVSYDQATSLRILNNGHAFNVEFDDSQDKAVLKGGPLDGTYRLIQFHFHWGSLDGQGSEHTVDKKKYAAELHLVHWNTKYGDFGKAVQQPDGLAVLGIFLKVGSAKPGLQKVVDVLDSIKTKGKSADFTNFDPRGLLPESLDYWTYPGSLTTPPLLECVTWIVLKEPISVSSEQVLKFRKLNFNGEGEPEELMVDNWRPAQPLKNRQIKASFK\n",
            "-0.7013029361646095\n"
          ]
        }
      ]
    },
    {
      "cell_type": "code",
      "source": [
        "print(smiles_test[0])\n",
        "print(proteins_test[0])\n",
        "print(labels_test[0])"
      ],
      "metadata": {
        "colab": {
          "base_uri": "https://localhost:8080/"
        },
        "id": "SChvOlVsfOrH",
        "outputId": "f28f826e-6369-435c-b399-f7d7ebf4f8a3"
      },
      "execution_count": 26,
      "outputs": [
        {
          "output_type": "stream",
          "name": "stdout",
          "text": [
            "CC(C)C[C@H](NC(=O)CNC(=O)CNC(=O)[C@H](Cc1ccccc1)NC(=O)[C@H](Cc1cnc[nH]1)NC(=O)CN(C)C(=O)[C@@H](NC(=O)[C@@H](NC(=O)[C@H](Cc1ccccc1)NC(=O)[C@H](CCCN=C(N)N)NC(=O)[C@@H](N)CCC(N)=O)C(C)(C)S)[C@@H](C)O)C(=O)N[C@@H](Cc1ccc(O)cc1)C(=O)N1CCC[C@H]1C(=O)N[C@@H](CS)C(=O)N[C@@H](CC(N)=O)C(=O)NCC(=O)N1CCC[C@H]1C(O)=O\n",
            "MGVPRPQPWALGLLLFLLPGSLGAESHLSLLYHLTAVSSPAPGTPAFWVSGWLGPQQYLSYNSLRGEAEPCGAWVWENQVSWYWEKETTDLRIKEKLFLEAFKALGGKGPYTLQGLLGCELGPDNTSVPTAKFALNGEEFMNFDLKQGTWGGDWPEALAISQRWQQQDKAANKELTFLLFSCPHRLREHLERGRGNLEWKEPPSMRLKARPSSPGFSVLTCSAFSFYPPELQLRFLRNGLAAGTGQGDFGPNSDGSFHASSSLTVKSGDEHHYCCIVQHAGLAQPLRVELESPAKSSVLVVGIVIGVLLLTAAAVGGALLWRRMRSGLPAPWISLRGDDTGVLLPTPGEAQDADLKDVNVIPATA\n",
            "-1.7029430278613713\n"
          ]
        }
      ]
    },
    {
      "cell_type": "markdown",
      "source": [
        "Temperature separation"
      ],
      "metadata": {
        "id": "IuTDfASrlraf"
      }
    },
    {
      "cell_type": "code",
      "source": [
        "data = pd.read_csv('kd_tmp_norm.csv')\n",
        "if 'Temp (C)' in data.columns:\n",
        "  data['Temp (C)'] = data['Temp (C)'].str.replace(' C', '').astype(float)\n",
        "\n",
        "  below_27 = data[data['Temp (C)'] < 27]\n",
        "  above_27 = data[data['Temp (C)'] >= 27]\n",
        "\n",
        "  below_27.to_csv('kd_tmp_train.csv', index=False)\n",
        "  above_27.to_csv('kd_tmp_test.csv', index=False)\n",
        "else:\n",
        "    print(\"The 'pH' column does not exist in the DataFrame.\")"
      ],
      "metadata": {
        "id": "ZMqmEaiTlp4S"
      },
      "execution_count": 35,
      "outputs": []
    },
    {
      "cell_type": "code",
      "source": [
        "# Load the train data\n",
        "data_train = []\n",
        "with open('kd_tmp_train.csv') as csvfile:\n",
        "  reader = csv.reader(csvfile)\n",
        "  next(reader) # skip the header\n",
        "  for row in reader:\n",
        "    triplet = []\n",
        "    triplet.append(row[0])\n",
        "    triplet.append(row[1])\n",
        "    triplet.append(row[2])\n",
        "    data_train.append(triplet)\n",
        "  print(len(data_train))\n",
        "\n",
        "  # Load the test data\n",
        "data_test = []\n",
        "with open('kd_tmp_test.csv') as csvfile:\n",
        "  reader = csv.reader(csvfile)\n",
        "  next(reader) # skip the header\n",
        "  for row in reader:\n",
        "    triplet = []\n",
        "    triplet.append(row[0])\n",
        "    triplet.append(row[1])\n",
        "    triplet.append(row[2])\n",
        "    data_test.append(triplet)\n",
        "  print(len(data_test))"
      ],
      "metadata": {
        "colab": {
          "base_uri": "https://localhost:8080/"
        },
        "id": "Oc6DxokcnIhb",
        "outputId": "658c0e7b-836a-4906-c0f7-89814b3d051b"
      },
      "execution_count": 36,
      "outputs": [
        {
          "output_type": "stream",
          "name": "stdout",
          "text": [
            "1911\n",
            "284\n"
          ]
        }
      ]
    },
    {
      "cell_type": "code",
      "source": [
        "smiles_train = []\n",
        "proteins_train = []\n",
        "labels_train = []\n",
        "random.shuffle(data_train)\n",
        "for triplet in range(len(data_train)):\n",
        "  smiles_train.append(data_train[triplet][0])\n",
        "  proteins_train.append(data_train[triplet][1])\n",
        "  labels_train.append(data_train[triplet][2])\n",
        "\n",
        "smiles_test = []\n",
        "proteins_test = []\n",
        "labels_test = []\n",
        "random.shuffle(data_test)\n",
        "for triplet in range(len(data_test)):\n",
        "  smiles_test.append(data_test[triplet][0])\n",
        "  proteins_test.append(data_test[triplet][1])\n",
        "  labels_test.append(data_test[triplet][2])"
      ],
      "metadata": {
        "id": "s3qPS1-7nzm2"
      },
      "execution_count": 37,
      "outputs": []
    },
    {
      "cell_type": "markdown",
      "source": [
        "Tokenizer"
      ],
      "metadata": {
        "id": "R3vSKho1JsBP"
      }
    },
    {
      "cell_type": "code",
      "source": [
        "# Tokennize smiles\n",
        "# Train\n",
        "tokenizer_smiles = Tokenizer(char_level=True)\n",
        "tokenizer_smiles.fit_on_texts(smiles_train)\n",
        "\n",
        "word_index_smiles = tokenizer_smiles.word_index\n",
        "vocab_size_smiles = len(word_index_smiles)\n",
        "\n",
        "train_sequence_smiles = tokenizer_smiles.texts_to_sequences(smiles_train)\n",
        "train_padded_smiles = pad_sequences(train_sequence_smiles, truncating=\"post\", padding=\"post\", maxlen=85)\n",
        "\n",
        "# Test\n",
        "test_sequence_smiles = tokenizer_smiles.texts_to_sequences(smiles_test)\n",
        "test_padded_smiles = pad_sequences(test_sequence_smiles, truncating=\"post\", padding=\"post\", maxlen=85)\n"
      ],
      "metadata": {
        "id": "bx1HeURcLL0P"
      },
      "execution_count": 38,
      "outputs": []
    },
    {
      "cell_type": "code",
      "source": [
        "# Tokennize protein\n",
        "# Train\n",
        "tokenizer_proteins = Tokenizer(char_level=True)\n",
        "tokenizer_proteins.fit_on_texts(proteins_train)\n",
        "\n",
        "word_index_proteins = tokenizer_proteins.word_index\n",
        "vocab_size_proteins = len(word_index_proteins)\n",
        "\n",
        "train_sequence_proteins = tokenizer_proteins.texts_to_sequences(proteins_train)\n",
        "train_padded_proteins = pad_sequences(train_sequence_proteins, truncating=\"post\", padding=\"post\", maxlen=1200)\n",
        "\n",
        "# Test\n",
        "test_sequence_proteins = tokenizer_proteins.texts_to_sequences(proteins_test)\n",
        "test_padded_proteins = pad_sequences(test_sequence_proteins, truncating=\"post\", padding=\"post\", maxlen=1200)\n"
      ],
      "metadata": {
        "id": "FZcWqAttcntF"
      },
      "execution_count": 39,
      "outputs": []
    },
    {
      "cell_type": "code",
      "source": [
        "print(vocab_size_smiles)\n",
        "print(vocab_size_proteins)"
      ],
      "metadata": {
        "colab": {
          "base_uri": "https://localhost:8080/"
        },
        "id": "f12feonndi0m",
        "outputId": "c25f07e7-f0cd-4df5-d9bd-38e87aa44950"
      },
      "execution_count": 40,
      "outputs": [
        {
          "output_type": "stream",
          "name": "stdout",
          "text": [
            "27\n",
            "20\n"
          ]
        }
      ]
    },
    {
      "cell_type": "code",
      "source": [
        "train_smiles_array = np.array(train_padded_smiles)\n",
        "test_smiles_array = np.array(test_padded_smiles)\n",
        "train_proteins_array = np.array(train_padded_proteins)\n",
        "test_proteins_array = np.array(test_padded_proteins)\n",
        "train_labels_array = np.array(labels_train, dtype=\"float32\")\n",
        "test_labels_array = np.array(labels_test, dtype=\"float32\")\n",
        "\n",
        "print(f\"Train smiles array shape: {train_smiles_array.shape}\")\n",
        "print(f\"Test smiles array shape: {test_smiles_array.shape}\")\n",
        "print(f\"Train proteins array shape: {train_proteins_array.shape}\")\n",
        "print(f\"Test proteins array shape: {test_proteins_array.shape}\")\n",
        "print(f\"Train labels array shape: {train_labels_array.shape}\")\n",
        "print(f\"Test labels array shape: {test_labels_array.shape}\")\n"
      ],
      "metadata": {
        "colab": {
          "base_uri": "https://localhost:8080/"
        },
        "id": "rmXzh-Ibdza0",
        "outputId": "2b1ce100-c068-4982-fbf6-10b80117a55f"
      },
      "execution_count": 41,
      "outputs": [
        {
          "output_type": "stream",
          "name": "stdout",
          "text": [
            "Train smiles array shape: (1911, 85)\n",
            "Test smiles array shape: (284, 85)\n",
            "Train proteins array shape: (1911, 1200)\n",
            "Test proteins array shape: (284, 1200)\n",
            "Train labels array shape: (1911,)\n",
            "Test labels array shape: (284,)\n"
          ]
        }
      ]
    },
    {
      "cell_type": "markdown",
      "source": [
        "DeepDTA model"
      ],
      "metadata": {
        "id": "HXlAYaWZfDea"
      }
    },
    {
      "cell_type": "code",
      "source": [
        "from keras.layers import Input, Embedding, Concatenate, Conv1D, GlobalAveragePooling1D, Dense, GlobalMaxPooling1D, Concatenate, Dense, Dropout\n",
        "from keras.models import Model\n",
        "from keras.models import Model\n",
        "\n",
        "# Define the input layer\n",
        "smiles_input = Input((85, ))\n",
        "proteins_input = Input((1200, ))\n",
        "\n",
        "# smiles encoder\n",
        "embed_smiles = Embedding(vocab_size_smiles+1, 128, input_length=85)(smiles_input)\n",
        "conv_smiles = Conv1D(32, 4, activation = \"relu\")(embed_smiles)\n",
        "conv_smiles = Conv1D(64, 6, activation = \"relu\")(conv_smiles)\n",
        "conv_smiles = Conv1D(96, 8, activation = \"relu\")(conv_smiles)\n",
        "max_smiles = GlobalMaxPooling1D()(conv_smiles)\n",
        "\n",
        "# proteins encoder\n",
        "embed_proteins = Embedding(vocab_size_smiles+1, 128, input_length=85)(proteins_input)\n",
        "conv_proteins = Conv1D(32, 4, activation = \"relu\")(embed_proteins)\n",
        "conv_proteins = Conv1D(64, 6, activation = \"relu\")(conv_proteins)\n",
        "conv_proteins = Conv1D(96, 8, activation = \"relu\")(conv_proteins)\n",
        "max_proteins = GlobalMaxPooling1D()(conv_proteins)\n",
        "\n",
        "# Concate the two encoder output\n",
        "concat_layer = Concatenate()([max_smiles, max_proteins])\n",
        "\n",
        "# decoder\n",
        "output = Dense(1024, activation = \"relu\")(concat_layer)\n",
        "output = Dropout(0.1)(output)\n",
        "output = Dense(1024, activation = \"relu\")(output)\n",
        "output = Dropout(0.1)(output)\n",
        "output = Dense(512, activation = \"relu\")(output)\n",
        "output = Dense(1)(output)\n",
        "\n",
        "# define a model with a list of two inputs\n",
        "model = Model(inputs = [smiles_input, proteins_input], outputs = output)\n",
        "optimizer = optimizers.Adam(learning_rate = 0.001)\n",
        "model.compile(loss='mse', optimizer = optimizer, metrics=['mse'])\n",
        "tf.keras.utils.plot_model(model)\n",
        "\n"
      ],
      "metadata": {
        "colab": {
          "base_uri": "https://localhost:8080/",
          "height": 1000
        },
        "id": "eyiReeT2fCyk",
        "outputId": "3b66435a-effd-4c58-fdb2-c13009632ed5"
      },
      "execution_count": 46,
      "outputs": [
        {
          "output_type": "execute_result",
          "data": {
            "image/png": "[encoded data removed]",
            "text/plain": [
              "<IPython.core.display.Image object>"
            ]
          },
          "metadata": {},
          "execution_count": 46
        }
      ]
    },
    {
      "cell_type": "code",
      "source": [
        "from keras.callbacks import EarlyStopping\n",
        "\n",
        "early_stopping = EarlyStopping(\n",
        "    monitor=\"val_loss\",\n",
        "    min_delta=0.001,\n",
        "    patience=10,\n",
        "    mode=\"min\",\n",
        "    restore_best_weights=True,\n",
        ")\n",
        "history = model.fit([train_smiles_array, train_proteins_array], train_labels_array, epochs = 300, batch_size = 256, validation_data = ([test_smiles_array, test_proteins_array], test_labels_array), callbacks=[early_stopping])"
      ],
      "metadata": {
        "colab": {
          "base_uri": "https://localhost:8080/"
        },
        "id": "bd4pPlsJjsUF",
        "outputId": "48e2ba2e-70ba-4f4f-8cd1-77458f0aa870"
      },
      "execution_count": 43,
      "outputs": [
        {
          "output_type": "stream",
          "name": "stdout",
          "text": [
            "Epoch 1/300\n",
            "8/8 [==============================] - 2s 130ms/step - loss: 0.8561 - mse: 0.8561 - val_loss: 1.7644 - val_mse: 1.7644\n",
            "Epoch 2/300\n",
            "8/8 [==============================] - 0s 19ms/step - loss: 0.6636 - mse: 0.6636 - val_loss: 1.7711 - val_mse: 1.7711\n",
            "Epoch 3/300\n",
            "8/8 [==============================] - 0s 21ms/step - loss: 0.5731 - mse: 0.5731 - val_loss: 1.7417 - val_mse: 1.7417\n",
            "Epoch 4/300\n",
            "8/8 [==============================] - 0s 21ms/step - loss: 0.5006 - mse: 0.5006 - val_loss: 1.7218 - val_mse: 1.7218\n",
            "Epoch 5/300\n",
            "8/8 [==============================] - 0s 21ms/step - loss: 0.4388 - mse: 0.4388 - val_loss: 1.5994 - val_mse: 1.5994\n",
            "Epoch 6/300\n",
            "8/8 [==============================] - 0s 19ms/step - loss: 0.3973 - mse: 0.3973 - val_loss: 1.8974 - val_mse: 1.8974\n",
            "Epoch 7/300\n",
            "8/8 [==============================] - 0s 19ms/step - loss: 0.3975 - mse: 0.3975 - val_loss: 1.6084 - val_mse: 1.6084\n",
            "Epoch 8/300\n",
            "8/8 [==============================] - 0s 20ms/step - loss: 0.3634 - mse: 0.3634 - val_loss: 1.7947 - val_mse: 1.7947\n",
            "Epoch 9/300\n",
            "8/8 [==============================] - 0s 21ms/step - loss: 0.3316 - mse: 0.3316 - val_loss: 1.4878 - val_mse: 1.4878\n",
            "Epoch 10/300\n",
            "8/8 [==============================] - 0s 21ms/step - loss: 0.2734 - mse: 0.2734 - val_loss: 1.4659 - val_mse: 1.4659\n",
            "Epoch 11/300\n",
            "8/8 [==============================] - 0s 19ms/step - loss: 0.2696 - mse: 0.2696 - val_loss: 1.5277 - val_mse: 1.5277\n",
            "Epoch 12/300\n",
            "8/8 [==============================] - 0s 19ms/step - loss: 0.2635 - mse: 0.2635 - val_loss: 1.5867 - val_mse: 1.5867\n",
            "Epoch 13/300\n",
            "8/8 [==============================] - 0s 19ms/step - loss: 0.2565 - mse: 0.2565 - val_loss: 1.6162 - val_mse: 1.6162\n",
            "Epoch 14/300\n",
            "8/8 [==============================] - 0s 21ms/step - loss: 0.2495 - mse: 0.2495 - val_loss: 1.4149 - val_mse: 1.4149\n",
            "Epoch 15/300\n",
            "8/8 [==============================] - 0s 20ms/step - loss: 0.2240 - mse: 0.2240 - val_loss: 1.4373 - val_mse: 1.4373\n",
            "Epoch 16/300\n",
            "8/8 [==============================] - 0s 20ms/step - loss: 0.2112 - mse: 0.2112 - val_loss: 1.4393 - val_mse: 1.4393\n",
            "Epoch 17/300\n",
            "8/8 [==============================] - 0s 19ms/step - loss: 0.2101 - mse: 0.2101 - val_loss: 1.5089 - val_mse: 1.5089\n",
            "Epoch 18/300\n",
            "8/8 [==============================] - 0s 19ms/step - loss: 0.2045 - mse: 0.2045 - val_loss: 1.4488 - val_mse: 1.4488\n",
            "Epoch 19/300\n",
            "8/8 [==============================] - 0s 20ms/step - loss: 0.2148 - mse: 0.2148 - val_loss: 1.5273 - val_mse: 1.5273\n",
            "Epoch 20/300\n",
            "8/8 [==============================] - 0s 19ms/step - loss: 0.2219 - mse: 0.2219 - val_loss: 1.4693 - val_mse: 1.4693\n",
            "Epoch 21/300\n",
            "8/8 [==============================] - 0s 21ms/step - loss: 0.2203 - mse: 0.2203 - val_loss: 1.3911 - val_mse: 1.3911\n",
            "Epoch 22/300\n",
            "8/8 [==============================] - 0s 20ms/step - loss: 0.1885 - mse: 0.1885 - val_loss: 1.4807 - val_mse: 1.4807\n",
            "Epoch 23/300\n",
            "8/8 [==============================] - 0s 19ms/step - loss: 0.1773 - mse: 0.1773 - val_loss: 1.4764 - val_mse: 1.4764\n",
            "Epoch 24/300\n",
            "8/8 [==============================] - 0s 19ms/step - loss: 0.1800 - mse: 0.1800 - val_loss: 1.4685 - val_mse: 1.4685\n",
            "Epoch 25/300\n",
            "8/8 [==============================] - 0s 21ms/step - loss: 0.1696 - mse: 0.1696 - val_loss: 1.4232 - val_mse: 1.4232\n",
            "Epoch 26/300\n",
            "8/8 [==============================] - 0s 20ms/step - loss: 0.1788 - mse: 0.1788 - val_loss: 1.6817 - val_mse: 1.6817\n",
            "Epoch 27/300\n",
            "8/8 [==============================] - 0s 20ms/step - loss: 0.1842 - mse: 0.1842 - val_loss: 1.6150 - val_mse: 1.6150\n",
            "Epoch 28/300\n",
            "8/8 [==============================] - 0s 19ms/step - loss: 0.1656 - mse: 0.1656 - val_loss: 1.4303 - val_mse: 1.4303\n",
            "Epoch 29/300\n",
            "8/8 [==============================] - 0s 19ms/step - loss: 0.1454 - mse: 0.1454 - val_loss: 1.4679 - val_mse: 1.4679\n",
            "Epoch 30/300\n",
            "8/8 [==============================] - 0s 19ms/step - loss: 0.1445 - mse: 0.1445 - val_loss: 1.4239 - val_mse: 1.4239\n",
            "Epoch 31/300\n",
            "8/8 [==============================] - 0s 21ms/step - loss: 0.1351 - mse: 0.1351 - val_loss: 1.4758 - val_mse: 1.4758\n"
          ]
        }
      ]
    },
    {
      "cell_type": "code",
      "source": [
        "import matplotlib.pyplot as plt\n",
        "\n",
        "mse = history.history['mse']\n",
        "val_mse = history.history['val_mse']\n",
        "loss = history.history['loss']\n",
        "val_loss = history.history['val_loss']\n",
        "\n",
        "epochs = range(len(loss))\n",
        "\n",
        "plt.plot(epochs, mse, 'r')\n",
        "plt.plot(epochs, val_mse, 'b')\n",
        "plt.title(\"Training and Validation MSE\")\n",
        "plt.xlabel(\"Epochs\")\n",
        "plt.ylabel(\"MSE\")\n",
        "plt.legend([\"Training MSE\", \"Validation MSE\"])\n",
        "\n",
        "plt.figure()"
      ],
      "metadata": {
        "colab": {
          "base_uri": "https://localhost:8080/",
          "height": 508
        },
        "id": "N7478NwL1YNK",
        "outputId": "276cce4f-9615-4dc5-da1c-8681a5b63959"
      },
      "execution_count": 44,
      "outputs": [
        {
          "output_type": "execute_result",
          "data": {
            "text/plain": [
              "<Figure size 640x480 with 0 Axes>"
            ]
          },
          "metadata": {},
          "execution_count": 44
        },
        {
          "output_type": "display_data",
          "data": {
            "text/plain": [
              "<Figure size 640x480 with 1 Axes>"
            ],
            "image/png": "[encoded data removed]"
          },
          "metadata": {}
        },
        {
          "output_type": "display_data",
          "data": {
            "text/plain": [
              "<Figure size 640x480 with 0 Axes>"
            ]
          },
          "metadata": {}
        }
      ]
    },
    {
      "cell_type": "code",
      "source": [
        "model.save(\"DeepDTA_tmp.h5\")"
      ],
      "metadata": {
        "id": "WpXKX3WH2dc3"
      },
      "execution_count": 45,
      "outputs": []
    }
  ]
}